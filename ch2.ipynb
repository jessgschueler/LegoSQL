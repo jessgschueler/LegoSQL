{
 "cells": [
  {
   "cell_type": "code",
   "execution_count": 2,
   "metadata": {},
   "outputs": [],
   "source": [
    "from sqlalchemy import create_engine\n",
    "\n",
    "# create engine connecting to lego database\n",
    "\n",
    "connection_method = \"mysql+pymysql\"\n",
    "db_user = \"root\"\n",
    "db_password = \"mysql\"\n",
    "db_host = \"127.0.0.1\"\n",
    "db_port = 3306\n",
    "db_name = \"lego\"\n",
    "\n",
    "engine = create_engine(f\"{connection_method}://{db_user}:{db_password}@{db_host}:{db_port}/{db_name}\", future=True)"
   ]
  },
  {
   "cell_type": "code",
   "execution_count": null,
   "metadata": {},
   "outputs": [],
   "source": [
    "import pandas as pd\n",
    "\n",
    "# read colors table using pandas into dataframe\n",
    "\n",
    "with engine.connect() as conn:\n",
    "    colors_df = pd.read_sql('colors', conn)\n",
    "    print(colors_df.head())\n",
    "    print(colors_df.tail())\n",
    "    print(colors_df.shape)"
   ]
  },
  {
   "cell_type": "code",
   "execution_count": null,
   "metadata": {},
   "outputs": [],
   "source": [
    "from sqlalchemy import text\n",
    "\n",
    "# read SQL query to pull only blue legos using pandas into dataframe\n",
    "\n",
    "with engine.connect() as conn:\n",
    "    blue_df = pd.read_sql(text(\"SELECT name, rgb, id FROM colors WHERE name LIKE '%blue%'\"), conn)\n",
    "    print(blue_df.head())\n",
    "    print(blue_df.tail())\n",
    "    print(blue_df.shape)"
   ]
  },
  {
   "cell_type": "code",
   "execution_count": 21,
   "metadata": {},
   "outputs": [
    {
     "name": "stdout",
     "output_type": "stream",
     "text": [
      "   year  total_in_theme   theme_name\n",
      "0  1994              30      Technic\n",
      "1  1994              11   Recreation\n",
      "2  1994               8  Basic Model\n"
     ]
    }
   ],
   "source": [
    "from sqlalchemy import text\n",
    "\n",
    "# just a fun extra, a dataframe that shows the top lego themes the year I was born!\n",
    "\n",
    "ninetyfour_theme = '''\n",
    "SELECT year, COUNT(theme_id) as total_in_theme, theme_name \n",
    "FROM sets \n",
    "WHERE year = 1994 \n",
    "GROUP BY theme_name \n",
    "ORDER BY total_in_theme DESC;\n",
    "'''\n",
    "\n",
    "with engine.connect() as conn:\n",
    "    ninetyfour_df = pd.read_sql(text(ninetyfour_theme), conn)\n",
    "    print(ninetyfour_df.head(3))"
   ]
  }
 ],
 "metadata": {
  "interpreter": {
   "hash": "c027e968a13c474413bcaa0488aada48c85249762e45792858c623a510d81122"
  },
  "kernelspec": {
   "display_name": "Python 3.7.13 ('venv': venv)",
   "language": "python",
   "name": "python3"
  },
  "language_info": {
   "codemirror_mode": {
    "name": "ipython",
    "version": 3
   },
   "file_extension": ".py",
   "mimetype": "text/x-python",
   "name": "python",
   "nbconvert_exporter": "python",
   "pygments_lexer": "ipython3",
   "version": "3.7.13"
  },
  "orig_nbformat": 4
 },
 "nbformat": 4,
 "nbformat_minor": 2
}
